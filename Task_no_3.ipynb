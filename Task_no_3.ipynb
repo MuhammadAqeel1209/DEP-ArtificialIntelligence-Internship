{
 "cells": [
  {
   "cell_type": "markdown",
   "metadata": {},
   "source": [
    "Importing Libiraries"
   ]
  },
  {
   "cell_type": "code",
   "execution_count": 9,
   "metadata": {},
   "outputs": [],
   "source": [
    "import numpy as np\n",
    "from keras.datasets import mnist\n",
    "from keras.utils import to_categorical\n",
    "from sklearn.model_selection import train_test_split"
   ]
  },
  {
   "cell_type": "code",
   "execution_count": 10,
   "metadata": {},
   "outputs": [],
   "source": [
    "data = mnist.load_data()"
   ]
  },
  {
   "cell_type": "code",
   "execution_count": 11,
   "metadata": {},
   "outputs": [],
   "source": [
    "(x_train, y_train), (x_test, y_test) = data"
   ]
  },
  {
   "cell_type": "code",
   "execution_count": 12,
   "metadata": {},
   "outputs": [],
   "source": [
    "# Normalize the input data to [0, 1]\n",
    "x_train = x_train.astype('float32') / 255\n",
    "x_test = x_test.astype('float32') / 255\n",
    "\n",
    "# Flatten the images from 28x28 to 784\n",
    "x_train = x_train.reshape(x_train.shape[0], -1)\n",
    "x_test = x_test.reshape(x_test.shape[0], -1)\n",
    "\n",
    "# One-hot encode the labels\n",
    "y_train = to_categorical(y_train, 10)\n",
    "y_test = to_categorical(y_test, 10)"
   ]
  },
  {
   "cell_type": "code",
   "execution_count": 13,
   "metadata": {},
   "outputs": [],
   "source": [
    "def sigmoid(x):\n",
    "    return 1 / (1 + np.exp(-x))\n",
    "\n",
    "def sigmoid_derivative(x):\n",
    "    return x * (1 - x)\n",
    "\n",
    "def softmax(x):\n",
    "    exp_x = np.exp(x - np.max(x, axis=1, keepdims=True))\n",
    "    return exp_x / np.sum(exp_x, axis=1, keepdims=True)\n",
    "\n",
    "def cross_entropy_loss(y_true, y_pred):\n",
    "    return -np.mean(y_true * np.log(y_pred + 1e-9))\n",
    "\n",
    "def accuracy(y_true, y_pred):\n",
    "    return np.mean(np.argmax(y_true, axis=1) == np.argmax(y_pred, axis=1))\n"
   ]
  },
  {
   "cell_type": "code",
   "execution_count": 14,
   "metadata": {},
   "outputs": [],
   "source": [
    "class NeuralNetwork:\n",
    "    def __init__(self, input_size, hidden_size, output_size):\n",
    "        self.weights_input_hidden = np.random.randn(input_size, hidden_size) * 0.01\n",
    "        self.bias_hidden = np.zeros((1, hidden_size))\n",
    "        self.weights_hidden_output = np.random.randn(hidden_size, output_size) * 0.01\n",
    "        self.bias_output = np.zeros((1, output_size))\n",
    "\n",
    "    def forward(self, x):\n",
    "        self.hidden_input = np.dot(x, self.weights_input_hidden) + self.bias_hidden\n",
    "        self.hidden_output = sigmoid(self.hidden_input)\n",
    "        self.final_input = np.dot(self.hidden_output, self.weights_hidden_output) + self.bias_output\n",
    "        self.final_output = softmax(self.final_input)\n",
    "        return self.final_output\n",
    "\n",
    "    def backward(self, x, y, output):\n",
    "        output_error = output - y\n",
    "        output_delta = output_error\n",
    "\n",
    "        hidden_error = np.dot(output_delta, self.weights_hidden_output.T)\n",
    "        hidden_delta = hidden_error * sigmoid_derivative(self.hidden_output)\n",
    "\n",
    "        self.weights_hidden_output -= np.dot(self.hidden_output.T, output_delta) * learning_rate\n",
    "        self.bias_output -= np.sum(output_delta, axis=0, keepdims=True) * learning_rate\n",
    "        self.weights_input_hidden -= np.dot(x.T, hidden_delta) * learning_rate\n",
    "        self.bias_hidden -= np.sum(hidden_delta, axis=0, keepdims=True) * learning_rate\n",
    "\n",
    "    def train(self, x, y):\n",
    "        output = self.forward(x)\n",
    "        self.backward(x, y, output)\n",
    "\n",
    "    def predict(self, x):\n",
    "        output = self.forward(x)\n",
    "        return np.argmax(output, axis=1)\n"
   ]
  },
  {
   "cell_type": "code",
   "execution_count": 15,
   "metadata": {},
   "outputs": [
    {
     "name": "stdout",
     "output_type": "stream",
     "text": [
      "Epoch 1/10\n",
      "Train Loss: 0.0349, Train Accuracy: 0.8945\n",
      "Test Loss: 0.0351, Test Accuracy: 0.8942\n",
      "Epoch 2/10\n",
      "Train Loss: 0.0255, Train Accuracy: 0.9240\n",
      "Test Loss: 0.0256, Test Accuracy: 0.9241\n",
      "Epoch 3/10\n",
      "Train Loss: 0.0221, Train Accuracy: 0.9335\n",
      "Test Loss: 0.0228, Test Accuracy: 0.9312\n",
      "Epoch 4/10\n",
      "Train Loss: 0.0198, Train Accuracy: 0.9415\n",
      "Test Loss: 0.0215, Test Accuracy: 0.9355\n",
      "Epoch 5/10\n",
      "Train Loss: 0.0190, Train Accuracy: 0.9438\n",
      "Test Loss: 0.0211, Test Accuracy: 0.9367\n",
      "Epoch 6/10\n",
      "Train Loss: 0.0165, Train Accuracy: 0.9509\n",
      "Test Loss: 0.0199, Test Accuracy: 0.9438\n",
      "Epoch 7/10\n",
      "Train Loss: 0.0140, Train Accuracy: 0.9587\n",
      "Test Loss: 0.0171, Test Accuracy: 0.9508\n",
      "Epoch 8/10\n",
      "Train Loss: 0.0148, Train Accuracy: 0.9566\n",
      "Test Loss: 0.0185, Test Accuracy: 0.9492\n",
      "Epoch 9/10\n",
      "Train Loss: 0.0120, Train Accuracy: 0.9633\n",
      "Test Loss: 0.0156, Test Accuracy: 0.9547\n",
      "Epoch 10/10\n",
      "Train Loss: 0.0123, Train Accuracy: 0.9627\n",
      "Test Loss: 0.0160, Test Accuracy: 0.9540\n"
     ]
    }
   ],
   "source": [
    "input_size = 784\n",
    "hidden_size = 64\n",
    "output_size = 10\n",
    "learning_rate = 0.1\n",
    "epochs = 10\n",
    "batch_size = 32\n",
    "\n",
    "nn = NeuralNetwork(input_size, hidden_size, output_size)\n",
    "\n",
    "for epoch in range(epochs):\n",
    "    for i in range(0, x_train.shape[0], batch_size):\n",
    "        x_batch = x_train[i:i + batch_size]\n",
    "        y_batch = y_train[i:i + batch_size]\n",
    "        nn.train(x_batch, y_batch)\n",
    "\n",
    "    train_output = nn.forward(x_train)\n",
    "    test_output = nn.forward(x_test)\n",
    "\n",
    "    train_loss = cross_entropy_loss(y_train, train_output)\n",
    "    test_loss = cross_entropy_loss(y_test, test_output)\n",
    "\n",
    "    train_acc = accuracy(y_train, train_output)\n",
    "    test_acc = accuracy(y_test, test_output)\n",
    "\n",
    "    print(f'Epoch {epoch + 1}/{epochs}')\n",
    "    print(f'Train Loss: {train_loss:.4f}, Train Accuracy: {train_acc:.4f}')\n",
    "    print(f'Test Loss: {test_loss:.4f}, Test Accuracy: {test_acc:.4f}')\n"
   ]
  },
  {
   "cell_type": "code",
   "execution_count": null,
   "metadata": {},
   "outputs": [],
   "source": []
  }
 ],
 "metadata": {
  "kernelspec": {
   "display_name": "Python 3",
   "language": "python",
   "name": "python3"
  },
  "language_info": {
   "codemirror_mode": {
    "name": "ipython",
    "version": 3
   },
   "file_extension": ".py",
   "mimetype": "text/x-python",
   "name": "python",
   "nbconvert_exporter": "python",
   "pygments_lexer": "ipython3",
   "version": "3.12.4"
  }
 },
 "nbformat": 4,
 "nbformat_minor": 2
}
